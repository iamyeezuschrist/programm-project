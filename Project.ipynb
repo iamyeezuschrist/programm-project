{
 "cells": [
  {
   "cell_type": "code",
   "execution_count": 101,
   "id": "928402c4",
   "metadata": {},
   "outputs": [],
   "source": [
    "import pandas as pd"
   ]
  },
  {
   "cell_type": "code",
   "execution_count": 102,
   "id": "1845ab02",
   "metadata": {},
   "outputs": [],
   "source": [
    "import numpy as np\n",
    "\n"
   ]
  },
  {
   "cell_type": "code",
   "execution_count": 103,
   "id": "f050dfb6",
   "metadata": {},
   "outputs": [],
   "source": [
    "import seaborn as sns"
   ]
  },
  {
   "cell_type": "code",
   "execution_count": 104,
   "id": "fcb5c43f",
   "metadata": {},
   "outputs": [
    {
     "name": "stdout",
     "output_type": "stream",
     "text": [
      "Requirement already satisfied: matplotlib in /Users/sasha/opt/anaconda3/lib/python3.8/site-packages (3.3.4)\n",
      "Requirement already satisfied: cycler>=0.10 in /Users/sasha/opt/anaconda3/lib/python3.8/site-packages (from matplotlib) (0.10.0)\n",
      "Requirement already satisfied: kiwisolver>=1.0.1 in /Users/sasha/opt/anaconda3/lib/python3.8/site-packages (from matplotlib) (1.3.1)\n",
      "Requirement already satisfied: numpy>=1.15 in /Users/sasha/opt/anaconda3/lib/python3.8/site-packages (from matplotlib) (1.20.1)\n",
      "Requirement already satisfied: python-dateutil>=2.1 in /Users/sasha/opt/anaconda3/lib/python3.8/site-packages (from matplotlib) (2.8.1)\n",
      "Requirement already satisfied: pyparsing!=2.0.4,!=2.1.2,!=2.1.6,>=2.0.3 in /Users/sasha/opt/anaconda3/lib/python3.8/site-packages (from matplotlib) (2.4.7)\n",
      "Requirement already satisfied: pillow>=6.2.0 in /Users/sasha/opt/anaconda3/lib/python3.8/site-packages (from matplotlib) (8.4.0)\n",
      "Requirement already satisfied: six in /Users/sasha/opt/anaconda3/lib/python3.8/site-packages (from cycler>=0.10->matplotlib) (1.15.0)\n",
      "Note: you may need to restart the kernel to use updated packages.\n"
     ]
    }
   ],
   "source": [
    "pip install matplotlib"
   ]
  },
  {
   "cell_type": "code",
   "execution_count": 105,
   "id": "b7fddfde",
   "metadata": {},
   "outputs": [],
   "source": [
    "import matplotlib.pyplot as plt"
   ]
  },
  {
   "cell_type": "code",
   "execution_count": 107,
   "id": "d8bf2a5b",
   "metadata": {},
   "outputs": [
    {
     "data": {
      "text/html": [
       "<div>\n",
       "<style scoped>\n",
       "    .dataframe tbody tr th:only-of-type {\n",
       "        vertical-align: middle;\n",
       "    }\n",
       "\n",
       "    .dataframe tbody tr th {\n",
       "        vertical-align: top;\n",
       "    }\n",
       "\n",
       "    .dataframe thead th {\n",
       "        text-align: right;\n",
       "    }\n",
       "</style>\n",
       "<table border=\"1\" class=\"dataframe\">\n",
       "  <thead>\n",
       "    <tr style=\"text-align: right;\">\n",
       "      <th></th>\n",
       "      <th>Invoice ID</th>\n",
       "      <th>Branch</th>\n",
       "      <th>City</th>\n",
       "      <th>Customer type</th>\n",
       "      <th>Gender</th>\n",
       "      <th>Product line</th>\n",
       "      <th>Unit price</th>\n",
       "      <th>Quantity</th>\n",
       "      <th>Tax 5%</th>\n",
       "      <th>Total</th>\n",
       "      <th>Date</th>\n",
       "      <th>Time</th>\n",
       "      <th>Payment</th>\n",
       "      <th>cogs</th>\n",
       "      <th>gross margin percentage</th>\n",
       "      <th>gross income</th>\n",
       "      <th>Rating</th>\n",
       "    </tr>\n",
       "  </thead>\n",
       "  <tbody>\n",
       "    <tr>\n",
       "      <th>0</th>\n",
       "      <td>750-67-8428</td>\n",
       "      <td>A</td>\n",
       "      <td>Yangon</td>\n",
       "      <td>Member</td>\n",
       "      <td>Female</td>\n",
       "      <td>Health and beauty</td>\n",
       "      <td>74.69</td>\n",
       "      <td>7</td>\n",
       "      <td>26.1415</td>\n",
       "      <td>548.9715</td>\n",
       "      <td>1/5/2019</td>\n",
       "      <td>13:08</td>\n",
       "      <td>Ewallet</td>\n",
       "      <td>522.83</td>\n",
       "      <td>4.761905</td>\n",
       "      <td>26.1415</td>\n",
       "      <td>9.1</td>\n",
       "    </tr>\n",
       "    <tr>\n",
       "      <th>1</th>\n",
       "      <td>226-31-3081</td>\n",
       "      <td>C</td>\n",
       "      <td>Naypyitaw</td>\n",
       "      <td>Normal</td>\n",
       "      <td>Female</td>\n",
       "      <td>Electronic accessories</td>\n",
       "      <td>15.28</td>\n",
       "      <td>5</td>\n",
       "      <td>3.8200</td>\n",
       "      <td>80.2200</td>\n",
       "      <td>3/8/2019</td>\n",
       "      <td>10:29</td>\n",
       "      <td>Cash</td>\n",
       "      <td>76.40</td>\n",
       "      <td>4.761905</td>\n",
       "      <td>3.8200</td>\n",
       "      <td>9.6</td>\n",
       "    </tr>\n",
       "    <tr>\n",
       "      <th>2</th>\n",
       "      <td>631-41-3108</td>\n",
       "      <td>A</td>\n",
       "      <td>Yangon</td>\n",
       "      <td>Normal</td>\n",
       "      <td>Male</td>\n",
       "      <td>Home and lifestyle</td>\n",
       "      <td>46.33</td>\n",
       "      <td>7</td>\n",
       "      <td>16.2155</td>\n",
       "      <td>340.5255</td>\n",
       "      <td>3/3/2019</td>\n",
       "      <td>13:23</td>\n",
       "      <td>Credit card</td>\n",
       "      <td>324.31</td>\n",
       "      <td>4.761905</td>\n",
       "      <td>16.2155</td>\n",
       "      <td>7.4</td>\n",
       "    </tr>\n",
       "    <tr>\n",
       "      <th>3</th>\n",
       "      <td>123-19-1176</td>\n",
       "      <td>A</td>\n",
       "      <td>Yangon</td>\n",
       "      <td>Member</td>\n",
       "      <td>Male</td>\n",
       "      <td>Health and beauty</td>\n",
       "      <td>58.22</td>\n",
       "      <td>8</td>\n",
       "      <td>23.2880</td>\n",
       "      <td>489.0480</td>\n",
       "      <td>1/27/2019</td>\n",
       "      <td>20:33</td>\n",
       "      <td>Ewallet</td>\n",
       "      <td>465.76</td>\n",
       "      <td>4.761905</td>\n",
       "      <td>23.2880</td>\n",
       "      <td>8.4</td>\n",
       "    </tr>\n",
       "    <tr>\n",
       "      <th>4</th>\n",
       "      <td>373-73-7910</td>\n",
       "      <td>A</td>\n",
       "      <td>Yangon</td>\n",
       "      <td>Normal</td>\n",
       "      <td>Male</td>\n",
       "      <td>Sports and travel</td>\n",
       "      <td>86.31</td>\n",
       "      <td>7</td>\n",
       "      <td>30.2085</td>\n",
       "      <td>634.3785</td>\n",
       "      <td>2/8/2019</td>\n",
       "      <td>10:37</td>\n",
       "      <td>Ewallet</td>\n",
       "      <td>604.17</td>\n",
       "      <td>4.761905</td>\n",
       "      <td>30.2085</td>\n",
       "      <td>5.3</td>\n",
       "    </tr>\n",
       "    <tr>\n",
       "      <th>5</th>\n",
       "      <td>699-14-3026</td>\n",
       "      <td>C</td>\n",
       "      <td>Naypyitaw</td>\n",
       "      <td>Normal</td>\n",
       "      <td>Male</td>\n",
       "      <td>Electronic accessories</td>\n",
       "      <td>85.39</td>\n",
       "      <td>7</td>\n",
       "      <td>29.8865</td>\n",
       "      <td>627.6165</td>\n",
       "      <td>3/25/2019</td>\n",
       "      <td>18:30</td>\n",
       "      <td>Ewallet</td>\n",
       "      <td>597.73</td>\n",
       "      <td>4.761905</td>\n",
       "      <td>29.8865</td>\n",
       "      <td>4.1</td>\n",
       "    </tr>\n",
       "    <tr>\n",
       "      <th>6</th>\n",
       "      <td>355-53-5943</td>\n",
       "      <td>A</td>\n",
       "      <td>Yangon</td>\n",
       "      <td>Member</td>\n",
       "      <td>Female</td>\n",
       "      <td>Electronic accessories</td>\n",
       "      <td>68.84</td>\n",
       "      <td>6</td>\n",
       "      <td>20.6520</td>\n",
       "      <td>433.6920</td>\n",
       "      <td>2/25/2019</td>\n",
       "      <td>14:36</td>\n",
       "      <td>Ewallet</td>\n",
       "      <td>413.04</td>\n",
       "      <td>4.761905</td>\n",
       "      <td>20.6520</td>\n",
       "      <td>5.8</td>\n",
       "    </tr>\n",
       "    <tr>\n",
       "      <th>7</th>\n",
       "      <td>315-22-5665</td>\n",
       "      <td>C</td>\n",
       "      <td>Naypyitaw</td>\n",
       "      <td>Normal</td>\n",
       "      <td>Female</td>\n",
       "      <td>Home and lifestyle</td>\n",
       "      <td>73.56</td>\n",
       "      <td>10</td>\n",
       "      <td>36.7800</td>\n",
       "      <td>772.3800</td>\n",
       "      <td>2/24/2019</td>\n",
       "      <td>11:38</td>\n",
       "      <td>Ewallet</td>\n",
       "      <td>735.60</td>\n",
       "      <td>4.761905</td>\n",
       "      <td>36.7800</td>\n",
       "      <td>8.0</td>\n",
       "    </tr>\n",
       "    <tr>\n",
       "      <th>8</th>\n",
       "      <td>665-32-9167</td>\n",
       "      <td>A</td>\n",
       "      <td>Yangon</td>\n",
       "      <td>Member</td>\n",
       "      <td>Female</td>\n",
       "      <td>Health and beauty</td>\n",
       "      <td>36.26</td>\n",
       "      <td>2</td>\n",
       "      <td>3.6260</td>\n",
       "      <td>76.1460</td>\n",
       "      <td>1/10/2019</td>\n",
       "      <td>17:15</td>\n",
       "      <td>Credit card</td>\n",
       "      <td>72.52</td>\n",
       "      <td>4.761905</td>\n",
       "      <td>3.6260</td>\n",
       "      <td>7.2</td>\n",
       "    </tr>\n",
       "    <tr>\n",
       "      <th>9</th>\n",
       "      <td>692-92-5582</td>\n",
       "      <td>B</td>\n",
       "      <td>Mandalay</td>\n",
       "      <td>Member</td>\n",
       "      <td>Female</td>\n",
       "      <td>Food and beverages</td>\n",
       "      <td>54.84</td>\n",
       "      <td>3</td>\n",
       "      <td>8.2260</td>\n",
       "      <td>172.7460</td>\n",
       "      <td>2/20/2019</td>\n",
       "      <td>13:27</td>\n",
       "      <td>Credit card</td>\n",
       "      <td>164.52</td>\n",
       "      <td>4.761905</td>\n",
       "      <td>8.2260</td>\n",
       "      <td>5.9</td>\n",
       "    </tr>\n",
       "    <tr>\n",
       "      <th>10</th>\n",
       "      <td>351-62-0822</td>\n",
       "      <td>B</td>\n",
       "      <td>Mandalay</td>\n",
       "      <td>Member</td>\n",
       "      <td>Female</td>\n",
       "      <td>Fashion accessories</td>\n",
       "      <td>14.48</td>\n",
       "      <td>4</td>\n",
       "      <td>2.8960</td>\n",
       "      <td>60.8160</td>\n",
       "      <td>2/6/2019</td>\n",
       "      <td>18:07</td>\n",
       "      <td>Ewallet</td>\n",
       "      <td>57.92</td>\n",
       "      <td>4.761905</td>\n",
       "      <td>2.8960</td>\n",
       "      <td>4.5</td>\n",
       "    </tr>\n",
       "    <tr>\n",
       "      <th>11</th>\n",
       "      <td>529-56-3974</td>\n",
       "      <td>B</td>\n",
       "      <td>Mandalay</td>\n",
       "      <td>Member</td>\n",
       "      <td>Male</td>\n",
       "      <td>Electronic accessories</td>\n",
       "      <td>25.51</td>\n",
       "      <td>4</td>\n",
       "      <td>5.1020</td>\n",
       "      <td>107.1420</td>\n",
       "      <td>3/9/2019</td>\n",
       "      <td>17:03</td>\n",
       "      <td>Cash</td>\n",
       "      <td>102.04</td>\n",
       "      <td>4.761905</td>\n",
       "      <td>5.1020</td>\n",
       "      <td>6.8</td>\n",
       "    </tr>\n",
       "    <tr>\n",
       "      <th>12</th>\n",
       "      <td>365-64-0515</td>\n",
       "      <td>A</td>\n",
       "      <td>Yangon</td>\n",
       "      <td>Normal</td>\n",
       "      <td>Female</td>\n",
       "      <td>Electronic accessories</td>\n",
       "      <td>46.95</td>\n",
       "      <td>5</td>\n",
       "      <td>11.7375</td>\n",
       "      <td>246.4875</td>\n",
       "      <td>2/12/2019</td>\n",
       "      <td>10:25</td>\n",
       "      <td>Ewallet</td>\n",
       "      <td>234.75</td>\n",
       "      <td>4.761905</td>\n",
       "      <td>11.7375</td>\n",
       "      <td>7.1</td>\n",
       "    </tr>\n",
       "    <tr>\n",
       "      <th>13</th>\n",
       "      <td>252-56-2699</td>\n",
       "      <td>A</td>\n",
       "      <td>Yangon</td>\n",
       "      <td>Normal</td>\n",
       "      <td>Male</td>\n",
       "      <td>Food and beverages</td>\n",
       "      <td>43.19</td>\n",
       "      <td>10</td>\n",
       "      <td>21.5950</td>\n",
       "      <td>453.4950</td>\n",
       "      <td>2/7/2019</td>\n",
       "      <td>16:48</td>\n",
       "      <td>Ewallet</td>\n",
       "      <td>431.90</td>\n",
       "      <td>4.761905</td>\n",
       "      <td>21.5950</td>\n",
       "      <td>8.2</td>\n",
       "    </tr>\n",
       "    <tr>\n",
       "      <th>14</th>\n",
       "      <td>829-34-3910</td>\n",
       "      <td>A</td>\n",
       "      <td>Yangon</td>\n",
       "      <td>Normal</td>\n",
       "      <td>Female</td>\n",
       "      <td>Health and beauty</td>\n",
       "      <td>71.38</td>\n",
       "      <td>10</td>\n",
       "      <td>35.6900</td>\n",
       "      <td>749.4900</td>\n",
       "      <td>3/29/2019</td>\n",
       "      <td>19:21</td>\n",
       "      <td>Cash</td>\n",
       "      <td>713.80</td>\n",
       "      <td>4.761905</td>\n",
       "      <td>35.6900</td>\n",
       "      <td>5.7</td>\n",
       "    </tr>\n",
       "    <tr>\n",
       "      <th>15</th>\n",
       "      <td>299-46-1805</td>\n",
       "      <td>B</td>\n",
       "      <td>Mandalay</td>\n",
       "      <td>Member</td>\n",
       "      <td>Female</td>\n",
       "      <td>Sports and travel</td>\n",
       "      <td>93.72</td>\n",
       "      <td>6</td>\n",
       "      <td>28.1160</td>\n",
       "      <td>590.4360</td>\n",
       "      <td>1/15/2019</td>\n",
       "      <td>16:19</td>\n",
       "      <td>Cash</td>\n",
       "      <td>562.32</td>\n",
       "      <td>4.761905</td>\n",
       "      <td>28.1160</td>\n",
       "      <td>4.5</td>\n",
       "    </tr>\n",
       "    <tr>\n",
       "      <th>16</th>\n",
       "      <td>656-95-9349</td>\n",
       "      <td>A</td>\n",
       "      <td>Yangon</td>\n",
       "      <td>Member</td>\n",
       "      <td>Female</td>\n",
       "      <td>Health and beauty</td>\n",
       "      <td>68.93</td>\n",
       "      <td>7</td>\n",
       "      <td>24.1255</td>\n",
       "      <td>506.6355</td>\n",
       "      <td>3/11/2019</td>\n",
       "      <td>11:03</td>\n",
       "      <td>Credit card</td>\n",
       "      <td>482.51</td>\n",
       "      <td>4.761905</td>\n",
       "      <td>24.1255</td>\n",
       "      <td>4.6</td>\n",
       "    </tr>\n",
       "    <tr>\n",
       "      <th>17</th>\n",
       "      <td>765-26-6951</td>\n",
       "      <td>A</td>\n",
       "      <td>Yangon</td>\n",
       "      <td>Normal</td>\n",
       "      <td>Male</td>\n",
       "      <td>Sports and travel</td>\n",
       "      <td>72.61</td>\n",
       "      <td>6</td>\n",
       "      <td>21.7830</td>\n",
       "      <td>457.4430</td>\n",
       "      <td>1/1/2019</td>\n",
       "      <td>10:39</td>\n",
       "      <td>Credit card</td>\n",
       "      <td>435.66</td>\n",
       "      <td>4.761905</td>\n",
       "      <td>21.7830</td>\n",
       "      <td>6.9</td>\n",
       "    </tr>\n",
       "    <tr>\n",
       "      <th>18</th>\n",
       "      <td>329-62-1586</td>\n",
       "      <td>A</td>\n",
       "      <td>Yangon</td>\n",
       "      <td>Normal</td>\n",
       "      <td>Male</td>\n",
       "      <td>Food and beverages</td>\n",
       "      <td>54.67</td>\n",
       "      <td>3</td>\n",
       "      <td>8.2005</td>\n",
       "      <td>172.2105</td>\n",
       "      <td>1/21/2019</td>\n",
       "      <td>18:00</td>\n",
       "      <td>Credit card</td>\n",
       "      <td>164.01</td>\n",
       "      <td>4.761905</td>\n",
       "      <td>8.2005</td>\n",
       "      <td>8.6</td>\n",
       "    </tr>\n",
       "    <tr>\n",
       "      <th>19</th>\n",
       "      <td>319-50-3348</td>\n",
       "      <td>B</td>\n",
       "      <td>Mandalay</td>\n",
       "      <td>Normal</td>\n",
       "      <td>Female</td>\n",
       "      <td>Home and lifestyle</td>\n",
       "      <td>40.30</td>\n",
       "      <td>2</td>\n",
       "      <td>4.0300</td>\n",
       "      <td>84.6300</td>\n",
       "      <td>3/11/2019</td>\n",
       "      <td>15:30</td>\n",
       "      <td>Ewallet</td>\n",
       "      <td>80.60</td>\n",
       "      <td>4.761905</td>\n",
       "      <td>4.0300</td>\n",
       "      <td>4.4</td>\n",
       "    </tr>\n",
       "  </tbody>\n",
       "</table>\n",
       "</div>"
      ],
      "text/plain": [
       "     Invoice ID Branch       City Customer type  Gender  \\\n",
       "0   750-67-8428      A     Yangon        Member  Female   \n",
       "1   226-31-3081      C  Naypyitaw        Normal  Female   \n",
       "2   631-41-3108      A     Yangon        Normal    Male   \n",
       "3   123-19-1176      A     Yangon        Member    Male   \n",
       "4   373-73-7910      A     Yangon        Normal    Male   \n",
       "5   699-14-3026      C  Naypyitaw        Normal    Male   \n",
       "6   355-53-5943      A     Yangon        Member  Female   \n",
       "7   315-22-5665      C  Naypyitaw        Normal  Female   \n",
       "8   665-32-9167      A     Yangon        Member  Female   \n",
       "9   692-92-5582      B   Mandalay        Member  Female   \n",
       "10  351-62-0822      B   Mandalay        Member  Female   \n",
       "11  529-56-3974      B   Mandalay        Member    Male   \n",
       "12  365-64-0515      A     Yangon        Normal  Female   \n",
       "13  252-56-2699      A     Yangon        Normal    Male   \n",
       "14  829-34-3910      A     Yangon        Normal  Female   \n",
       "15  299-46-1805      B   Mandalay        Member  Female   \n",
       "16  656-95-9349      A     Yangon        Member  Female   \n",
       "17  765-26-6951      A     Yangon        Normal    Male   \n",
       "18  329-62-1586      A     Yangon        Normal    Male   \n",
       "19  319-50-3348      B   Mandalay        Normal  Female   \n",
       "\n",
       "              Product line  Unit price  Quantity   Tax 5%     Total  \\\n",
       "0        Health and beauty       74.69         7  26.1415  548.9715   \n",
       "1   Electronic accessories       15.28         5   3.8200   80.2200   \n",
       "2       Home and lifestyle       46.33         7  16.2155  340.5255   \n",
       "3        Health and beauty       58.22         8  23.2880  489.0480   \n",
       "4        Sports and travel       86.31         7  30.2085  634.3785   \n",
       "5   Electronic accessories       85.39         7  29.8865  627.6165   \n",
       "6   Electronic accessories       68.84         6  20.6520  433.6920   \n",
       "7       Home and lifestyle       73.56        10  36.7800  772.3800   \n",
       "8        Health and beauty       36.26         2   3.6260   76.1460   \n",
       "9       Food and beverages       54.84         3   8.2260  172.7460   \n",
       "10     Fashion accessories       14.48         4   2.8960   60.8160   \n",
       "11  Electronic accessories       25.51         4   5.1020  107.1420   \n",
       "12  Electronic accessories       46.95         5  11.7375  246.4875   \n",
       "13      Food and beverages       43.19        10  21.5950  453.4950   \n",
       "14       Health and beauty       71.38        10  35.6900  749.4900   \n",
       "15       Sports and travel       93.72         6  28.1160  590.4360   \n",
       "16       Health and beauty       68.93         7  24.1255  506.6355   \n",
       "17       Sports and travel       72.61         6  21.7830  457.4430   \n",
       "18      Food and beverages       54.67         3   8.2005  172.2105   \n",
       "19      Home and lifestyle       40.30         2   4.0300   84.6300   \n",
       "\n",
       "         Date   Time      Payment    cogs  gross margin percentage  \\\n",
       "0    1/5/2019  13:08      Ewallet  522.83                 4.761905   \n",
       "1    3/8/2019  10:29         Cash   76.40                 4.761905   \n",
       "2    3/3/2019  13:23  Credit card  324.31                 4.761905   \n",
       "3   1/27/2019  20:33      Ewallet  465.76                 4.761905   \n",
       "4    2/8/2019  10:37      Ewallet  604.17                 4.761905   \n",
       "5   3/25/2019  18:30      Ewallet  597.73                 4.761905   \n",
       "6   2/25/2019  14:36      Ewallet  413.04                 4.761905   \n",
       "7   2/24/2019  11:38      Ewallet  735.60                 4.761905   \n",
       "8   1/10/2019  17:15  Credit card   72.52                 4.761905   \n",
       "9   2/20/2019  13:27  Credit card  164.52                 4.761905   \n",
       "10   2/6/2019  18:07      Ewallet   57.92                 4.761905   \n",
       "11   3/9/2019  17:03         Cash  102.04                 4.761905   \n",
       "12  2/12/2019  10:25      Ewallet  234.75                 4.761905   \n",
       "13   2/7/2019  16:48      Ewallet  431.90                 4.761905   \n",
       "14  3/29/2019  19:21         Cash  713.80                 4.761905   \n",
       "15  1/15/2019  16:19         Cash  562.32                 4.761905   \n",
       "16  3/11/2019  11:03  Credit card  482.51                 4.761905   \n",
       "17   1/1/2019  10:39  Credit card  435.66                 4.761905   \n",
       "18  1/21/2019  18:00  Credit card  164.01                 4.761905   \n",
       "19  3/11/2019  15:30      Ewallet   80.60                 4.761905   \n",
       "\n",
       "    gross income  Rating  \n",
       "0        26.1415     9.1  \n",
       "1         3.8200     9.6  \n",
       "2        16.2155     7.4  \n",
       "3        23.2880     8.4  \n",
       "4        30.2085     5.3  \n",
       "5        29.8865     4.1  \n",
       "6        20.6520     5.8  \n",
       "7        36.7800     8.0  \n",
       "8         3.6260     7.2  \n",
       "9         8.2260     5.9  \n",
       "10        2.8960     4.5  \n",
       "11        5.1020     6.8  \n",
       "12       11.7375     7.1  \n",
       "13       21.5950     8.2  \n",
       "14       35.6900     5.7  \n",
       "15       28.1160     4.5  \n",
       "16       24.1255     4.6  \n",
       "17       21.7830     6.9  \n",
       "18        8.2005     8.6  \n",
       "19        4.0300     4.4  "
      ]
     },
     "execution_count": 107,
     "metadata": {},
     "output_type": "execute_result"
    }
   ],
   "source": [
    "df = pd.read_csv('supermarket_sales - Sheet1.csv')\n",
    "df[:20]\n",
    "\n"
   ]
  },
  {
   "cell_type": "code",
   "execution_count": 169,
   "id": "77a4fcaa",
   "metadata": {},
   "outputs": [
    {
     "name": "stdout",
     "output_type": "stream",
     "text": [
      "I was provided with a dataset of the random 1000 sales of a particular supermarket chain stores in 3 different cities. The dataset contains general customer information, the invoices of each purchase as well as the amount of the purchase, governmental tax and also described information about the profits of the store. Analyzing this information, I will be able to find out which store brought more profit for the chain and which improvements could be delivered in order to increase the revenue of other stores. \n"
     ]
    }
   ],
   "source": [
    "print('I was provided with a dataset of the random 1000 sales of a particular supermarket chain stores in 3 different cities. The dataset contains general customer information, the invoices of each purchase as well as the amount of the purchase, governmental tax and also described information about the profits of the store. Analyzing this information, I will be able to find out which store brought more profit for the chain and which improvements could be delivered in order to increase the revenue of other stores. ') "
   ]
  },
  {
   "cell_type": "markdown",
   "id": "13297d1e",
   "metadata": {},
   "source": [
    "print('First, lets calculate the mean/median/standard deviation for three values in order to state the distribution between all products and orders sold')"
   ]
  },
  {
   "cell_type": "code",
   "execution_count": 108,
   "id": "805b3922",
   "metadata": {},
   "outputs": [
    {
     "data": {
      "text/plain": [
       "55.230000000000004"
      ]
     },
     "execution_count": 108,
     "metadata": {},
     "output_type": "execute_result"
    }
   ],
   "source": [
    "df[\"Unit price\"].median()"
   ]
  },
  {
   "cell_type": "code",
   "execution_count": 109,
   "id": "a7cc0122",
   "metadata": {},
   "outputs": [
    {
     "data": {
      "text/plain": [
       "5.0"
      ]
     },
     "execution_count": 109,
     "metadata": {},
     "output_type": "execute_result"
    }
   ],
   "source": [
    "df[\"Quantity\"].median()"
   ]
  },
  {
   "cell_type": "code",
   "execution_count": 110,
   "id": "2e308cb5",
   "metadata": {},
   "outputs": [
    {
     "data": {
      "text/plain": [
       "253.848"
      ]
     },
     "execution_count": 110,
     "metadata": {},
     "output_type": "execute_result"
    }
   ],
   "source": [
    "df[\"Total\"].median()"
   ]
  },
  {
   "cell_type": "code",
   "execution_count": 111,
   "id": "383de690",
   "metadata": {},
   "outputs": [
    {
     "data": {
      "text/plain": [
       "55.67212999999998"
      ]
     },
     "execution_count": 111,
     "metadata": {},
     "output_type": "execute_result"
    }
   ],
   "source": [
    "df['Unit price'].mean()"
   ]
  },
  {
   "cell_type": "code",
   "execution_count": 112,
   "id": "53bb32dc",
   "metadata": {},
   "outputs": [
    {
     "data": {
      "text/plain": [
       "322.96674900000005"
      ]
     },
     "execution_count": 112,
     "metadata": {},
     "output_type": "execute_result"
    }
   ],
   "source": [
    "df['Total'].mean()"
   ]
  },
  {
   "cell_type": "code",
   "execution_count": 113,
   "id": "f64f118e",
   "metadata": {},
   "outputs": [
    {
     "data": {
      "text/plain": [
       "5.51"
      ]
     },
     "execution_count": 113,
     "metadata": {},
     "output_type": "execute_result"
    }
   ],
   "source": [
    "df['Quantity'].mean()\n",
    "\n"
   ]
  },
  {
   "cell_type": "code",
   "execution_count": 114,
   "id": "126741f1",
   "metadata": {},
   "outputs": [
    {
     "data": {
      "text/plain": [
       "26.48137772026032"
      ]
     },
     "execution_count": 114,
     "metadata": {},
     "output_type": "execute_result"
    }
   ],
   "source": [
    "np.std(df['Unit price'])"
   ]
  },
  {
   "cell_type": "code",
   "execution_count": 115,
   "id": "15136796",
   "metadata": {},
   "outputs": [
    {
     "data": {
      "text/plain": [
       "2.9219685145463163"
      ]
     },
     "execution_count": 115,
     "metadata": {},
     "output_type": "execute_result"
    }
   ],
   "source": [
    "np.std(df['Quantity'])"
   ]
  },
  {
   "cell_type": "code",
   "execution_count": 116,
   "id": "4c0f6b26",
   "metadata": {},
   "outputs": [
    {
     "data": {
      "text/plain": [
       "245.76236168237725"
      ]
     },
     "execution_count": 116,
     "metadata": {},
     "output_type": "execute_result"
    }
   ],
   "source": [
    "np.std(df['Total'])"
   ]
  },
  {
   "cell_type": "code",
   "execution_count": 117,
   "id": "fdd53671",
   "metadata": {},
   "outputs": [
    {
     "data": {
      "text/plain": [
       "<AxesSubplot:ylabel='Product line'>"
      ]
     },
     "execution_count": 117,
     "metadata": {},
     "output_type": "execute_result"
    },
    {
     "data": {
      "image/png": "[encoded data removed]",
      "text/plain": [
       "<Figure size 432x288 with 1 Axes>"
      ]
     },
     "metadata": {},
     "output_type": "display_data"
    }
   ],
   "source": [
    "df[\"Product line\"].value_counts().plot.pie()"
   ]
  },
  {
   "cell_type": "code",
   "execution_count": 156,
   "id": "64b485a0",
   "metadata": {},
   "outputs": [
    {
     "name": "stdout",
     "output_type": "stream",
     "text": [
      "Deducing the share of each product line in the sales of the supermarket chain\n"
     ]
    }
   ],
   "source": [
    "print('Deducing the share of each product line in the sales of the supermarket chain')\n"
   ]
  },
  {
   "cell_type": "code",
   "execution_count": 118,
   "id": "cbe8e92c",
   "metadata": {
    "scrolled": true
   },
   "outputs": [
    {
     "data": {
      "text/plain": [
       "<AxesSubplot:ylabel='Gender'>"
      ]
     },
     "execution_count": 118,
     "metadata": {},
     "output_type": "execute_result"
    },
    {
     "data": {
      "image/png": "[encoded data removed]",
      "text/plain": [
       "<Figure size 432x288 with 1 Axes>"
      ]
     },
     "metadata": {},
     "output_type": "display_data"
    }
   ],
   "source": [
    "df[\"Gender\"].value_counts().plot.pie()"
   ]
  },
  {
   "cell_type": "code",
   "execution_count": 157,
   "id": "50b4a4ae",
   "metadata": {},
   "outputs": [
    {
     "name": "stdout",
     "output_type": "stream",
     "text": [
      "The chart shows that amount of men and women among the clients of the chain is equal\n"
     ]
    }
   ],
   "source": [
    "print('The chart shows that amount of men and women among the clients of the chain is equal' )"
   ]
  },
  {
   "cell_type": "code",
   "execution_count": null,
   "id": "3e5217c5",
   "metadata": {},
   "outputs": [],
   "source": []
  },
  {
   "cell_type": "code",
   "execution_count": 120,
   "id": "8bc8d28e",
   "metadata": {},
   "outputs": [
    {
     "data": {
      "text/plain": [
       "<AxesSubplot:ylabel='Customer type'>"
      ]
     },
     "execution_count": 120,
     "metadata": {},
     "output_type": "execute_result"
    },
    {
     "data": {
      "image/png": "[encoded data removed]",
      "text/plain": [
       "<Figure size 432x288 with 1 Axes>"
      ]
     },
     "metadata": {},
     "output_type": "display_data"
    }
   ],
   "source": [
    "df[\"Customer type\"].value_counts().plot.pie()"
   ]
  },
  {
   "cell_type": "code",
   "execution_count": 159,
   "id": "e8734901",
   "metadata": {},
   "outputs": [
    {
     "name": "stdout",
     "output_type": "stream",
     "text": [
      "the amount of member-customers equals to the amount ofg the non-member ones\n"
     ]
    }
   ],
   "source": [
    "print('the amount of member-customers equals to the amount ofg the non-member ones')"
   ]
  },
  {
   "cell_type": "code",
   "execution_count": 121,
   "id": "39a6fe15",
   "metadata": {},
   "outputs": [
    {
     "data": {
      "text/plain": [
       "<AxesSubplot:ylabel='Product line'>"
      ]
     },
     "execution_count": 121,
     "metadata": {},
     "output_type": "execute_result"
    },
    {
     "data": {
      "image/png": "[encoded data removed]",
      "text/plain": [
       "<Figure size 720x720 with 1 Axes>"
      ]
     },
     "metadata": {
      "needs_background": "light"
     },
     "output_type": "display_data"
    }
   ],
   "source": [
    "df.groupby([\"Product line\", \"City\"]).size().unstack().fillna(0).plot(kind='barh', stacked=False, figsize=(10, 10))"
   ]
  },
  {
   "cell_type": "code",
   "execution_count": 166,
   "id": "860b70ba",
   "metadata": {},
   "outputs": [
    {
     "name": "stdout",
     "output_type": "stream",
     "text": [
      "in order to analyse the ways of maximizing the profits of each store we ought to find out the categories which are sold mostly among three of the cities\n"
     ]
    }
   ],
   "source": [
    "print('in order to analyse the ways of maximizing the profits of each store we ought to find out the categories which are sold mostly among three of the cities')"
   ]
  },
  {
   "cell_type": "code",
   "execution_count": 122,
   "id": "5b0832dc",
   "metadata": {},
   "outputs": [
    {
     "data": {
      "text/plain": [
       "<AxesSubplot:ylabel='Customer type'>"
      ]
     },
     "execution_count": 122,
     "metadata": {},
     "output_type": "execute_result"
    },
    {
     "data": {
      "image/png": "[encoded data removed]",
      "text/plain": [
       "<Figure size 1080x1080 with 1 Axes>"
      ]
     },
     "metadata": {
      "needs_background": "light"
     },
     "output_type": "display_data"
    }
   ],
   "source": [
    "df.groupby([\"Customer type\", \"City\"]).size().unstack().fillna(0).plot(kind='barh', figsize=(15, 15))"
   ]
  },
  {
   "cell_type": "code",
   "execution_count": 167,
   "id": "3fdd637b",
   "metadata": {},
   "outputs": [
    {
     "name": "stdout",
     "output_type": "stream",
     "text": [
      "Here we may observe which stores had more member-clients\n"
     ]
    }
   ],
   "source": [
    "print('Here we may observe which stores had more member-clients')"
   ]
  },
  {
   "cell_type": "code",
   "execution_count": 142,
   "id": "4d8d9c87",
   "metadata": {},
   "outputs": [
    {
     "data": {
      "image/png": "[encoded data removed]",
      "text/plain": [
       "<Figure size 432x288 with 1 Axes>"
      ]
     },
     "metadata": {
      "needs_background": "light"
     },
     "output_type": "display_data"
    }
   ],
   "source": [
    "Perv =df.groupby('Customer type', as_index = False)['gross income']\n",
    "Gr = sns.barplot(data=df, y = 'Customer type', x = 'gross income')"
   ]
  },
  {
   "cell_type": "code",
   "execution_count": 168,
   "id": "b581a50e",
   "metadata": {},
   "outputs": [
    {
     "name": "stdout",
     "output_type": "stream",
     "text": [
      "Kind of basic, but extremely important thing, we may surely state that in average member-clients generate more income for the store\n"
     ]
    }
   ],
   "source": [
    "print('Kind of basic, but extremely important thing, we may surely state that in average member-clients generate more income for the store')"
   ]
  },
  {
   "cell_type": "code",
   "execution_count": 143,
   "id": "de9f7052",
   "metadata": {},
   "outputs": [
    {
     "data": {
      "image/png": "[encoded data removed]",
      "text/plain": [
       "<Figure size 432x288 with 1 Axes>"
      ]
     },
     "metadata": {
      "needs_background": "light"
     },
     "output_type": "display_data"
    }
   ],
   "source": [
    "Perv =df.groupby('gross income', as_index = False)['City']\n",
    "Gr = sns.barplot(data=df, y = 'City', x = 'gross income')"
   ]
  },
  {
   "cell_type": "code",
   "execution_count": 162,
   "id": "b00d81a9",
   "metadata": {},
   "outputs": [
    {
     "name": "stdout",
     "output_type": "stream",
     "text": [
      "knowing that the amount of sellings is equal among three stores, we have to calculate the average gross income in order to find the store with the highest revenue\n"
     ]
    }
   ],
   "source": [
    "print('knowing that the amount of sellings is equal among three stores, we have to calculate the average gross income in order to find the store with the highest revenue')"
   ]
  },
  {
   "cell_type": "code",
   "execution_count": 154,
   "id": "4a32bbba",
   "metadata": {},
   "outputs": [
    {
     "data": {
      "image/png": "[encoded data removed]",
      "text/plain": [
       "<Figure size 432x288 with 1 Axes>"
      ]
     },
     "metadata": {
      "needs_background": "light"
     },
     "output_type": "display_data"
    }
   ],
   "source": [
    "Perv = df.groupby('gross income', as_index = False)['Product line']\n",
    "Gr = sns.barplot(data=df, y = 'Product line', x = 'gross income')"
   ]
  },
  {
   "cell_type": "markdown",
   "id": "c4440c5c",
   "metadata": {},
   "source": [
    "print('finally, we have to figurize the category with the highest average gross income')"
   ]
  },
  {
   "cell_type": "code",
   "execution_count": 174,
   "id": "16ef5c90",
   "metadata": {},
   "outputs": [
    {
     "name": "stdout",
     "output_type": "stream",
     "text": [
      "I was provided with a dataset of the random 1000 sales of a particular supermarket chain stores in 3 different cities. The dataset contains general customer information, the invoices of each purchase as well        as the amount of the purchase, governmental tax and also described information about the profits of the store. Analyzing this information, I will be able to find out which store brought more profit for the chain and which improvements could be delivered in order to increase the revenue of other stores.  First things first, I’ve investigated the mean, median and the standard deviation of unit price (price of 1 particular item sold in the shop), total (total check of the purchase) and quantity (number of items bought in 1 order).   Inspecting the received data, we may observe that in each case the mean exceeds the median value. Therefore, I may state that in all three shops people tend to buy more products in one order with a high invoice check.  Speaking about the standard deviation, it is quite high in unit price and total check and low in quantity of the goods bought. It means that due to the high variety of goods sold in the shop, the average check consists of several cheap goods and 1-2 expensive ones. Hereby, rare cases of 6 to 10 expensive goods bought create such a disbalance.  Furthermore, if we take a look at the diversification of the purchases by product lines, we will see that the balance between the categories sold is almost perfect, this can be explained by the second pie-chart, which is displaying the perfect relation between the number of men and women customers. What’s more, the balance between member-customers and regular ones is also 50 to 50 %.  Then, let’s move to the more detailed comparison graphs. Firstly, I wanted to find out which categories were sold mostly in each of the stores. This will help us afterwards to figure out the most profitable categories (we may not judge it just from the relation between cogs and margin, as it says only about the particular order and we want to inspect the whole situation). It turned out that Food and ‘Fashion’ are mostly sold in Naypyitaw. Yangon is the leader in the sales of electronic accessories and goods for home and lifestyle. Finally, Mandalay takes the takes the lead in the sales of health & beauty goods and sports apparel. For now, me may outline the conclusion about the preferences of customers in each region. In Mandalay there is a trend on healthy lifestyle, in Naypyitaw people tend to choose grocery and clothes and in Yangon customers care about their houses in terms of comfortability (devices and apparel).  Moreover, as I’ve said before, membership of the client is an important thing for every supermarket chain. In the following graph I’ve pointed out that with the minimal difference in the number of clients the bonus program members prevail in Naypyitaw, then comes Yangon and Mandalay respectively.  /Then again, I’ve inspected the difference in the gross income from the purchases of member and non-member clients. Eventually, member-clients tend to spend more money at the stores of the chain. And now moving to the most interesting relation of the investigation. The bar-chart shows that even with a minimal, almost imperceptible difference in the number of customers of the bonus program, the Naypyitaw store showed a difference in average gross income of 7% (~16.0 $ of gross income on the x-axis /  ~15.0 gross income of Mandalay * 100).  Therefore, the last graph shows that the most profitable categories of goods are goods for home and sports apparel.  All things considered, after analyzing all the information I’m ready to give the conclusion of the analysis and deliver my recommendations. In each store of the chain the average check is quite varied, consisting of several cheap goods and 1 or 2 expensive ones. The amount of member clients is almost equal to the amount of the normal ones, what’s more, members of the bonus program tend to buy more expensive goods and bring more gross income for the company. In case the difference in the revenue was created only by the difference in the gross income of different categories of the goods sold, \tYangon would lead in the average gross income (as the number of sales of each store in the dataset is close to being equal, the higher amount / equal number = the higher average). Thus, I may undoubtedly state that profit made by member-clients is higher than profit received from selling the more expensive categories.  Finally, I have to state that the store in Naypyitaw made more gross income because of the higher number of member-clients. Therefore, I’d recommend the stores in Yangon and Mandalay delivering new offerings for their member-clients in order to increase their number. For instance, as far as they have the preferred categories of goods, they may deliver discounts and price reduction with a member-card on these categories, by that they will increase the potential number of member-clients and afterwards they can increase the prices back, but they will definitely compensate the differences in the income of this period by the higher revenue generated from new member-clients. What’s more, as in my survey I’ve found out the preferred product lines in each of the stores, they may increase the supply of these goods as the demand is higher than for the other ones, which will also increase the profits of the stores.\n"
     ]
    }
   ],
   "source": [
    "print ('I was provided with a dataset of the random 1000 sales of a particular supermarket chain stores in 3 different cities. The dataset contains general customer information, the invoices of each purchase as well \\\n",
    "       as the amount of the purchase, governmental tax and also described information about the profits of the store. Analyzing this information, I will be able to find out which store brought more profit for the chain and which improvements could be delivered in order to increase the revenue of other stores.  First things first, I’ve investigated the mean, median and the standard deviation of unit price (price of 1 particular item sold in the shop), total (total check of the purchase) and quantity (number of items bought in 1 order).   Inspecting the received data, we may observe that in each case the mean exceeds the median value. Therefore, I may state that in all three shops people tend to buy more products in one order with a high invoice check.  Speaking about the standard deviation, it is quite high in unit price and total check and low in quantity of the goods bought. It means that due to the high variety of goods sold in the shop, the average check consists of several cheap goods and 1-2 expensive ones. Hereby, rare cases of 6 to 10 expensive goods bought create such a disbalance.  Furthermore, if we take a look at the diversification of the purchases by product lines, we will see that the balance between the categories sold is almost perfect, this can be explained by the second pie-chart, which is displaying the perfect relation between the number of men and women customers. What’s more, the balance between member-customers and regular ones is also 50 to 50 %.  Then, let’s move to the more detailed comparison graphs. Firstly, I wanted to find out which categories were sold mostly in each of the stores. This will help us afterwards to figure out the most profitable categories (we may not judge it just from the relation between cogs and margin, as it says only about the particular order and we want to inspect the whole situation). It turned out that Food and ‘Fashion’ are mostly sold in Naypyitaw. Yangon is the leader in the sales of electronic accessories and goods for home and lifestyle. Finally, Mandalay takes the takes the lead in the sales of health & beauty goods and sports apparel. For now, me may outline the conclusion about the preferences of customers in each region. In Mandalay there is a trend on healthy lifestyle, in Naypyitaw people tend to choose grocery and clothes and in Yangon customers care about their houses in terms of comfortability (devices and apparel).  Moreover, as I’ve said before, membership of the client is an important thing for every supermarket chain. In the following graph I’ve pointed out that with the minimal difference in the number of clients the bonus program members prevail in Naypyitaw, then comes Yangon and Mandalay respectively.  /Then again, I’ve inspected the difference in the gross income from the purchases of member and non-member clients. Eventually, member-clients tend to spend more money at the stores of the chain. And now moving to the most interesting relation of the investigation. The bar-chart shows that even with a minimal, almost imperceptible difference in the number of customers of the bonus program, the Naypyitaw store showed a difference in average gross income of 7% (~16.0 $ of gross income on the x-axis /  ~15.0 gross income of Mandalay * 100).  Therefore, the last graph shows that the most profitable categories of goods are goods for home and sports apparel.  All things considered, after analyzing all the information I’m ready to give the conclusion of the analysis and deliver my recommendations. In each store of the chain the average check is quite varied, consisting of several cheap goods and 1 or 2 expensive ones. The amount of member clients is almost equal to the amount of the normal ones, what’s more, members of the bonus program tend to buy more expensive goods and bring more gross income for the company. In case the difference in the revenue was created only by the difference in the gross income of different categories of the goods sold, \tYangon would lead in the average gross income (as the number of sales of each store in the dataset is close to being equal, the higher amount / equal number = the higher average). Thus, I may undoubtedly state that profit made by member-clients is higher than profit received from selling the more expensive categories.  Finally, I have to state that the store in Naypyitaw made more gross income because of the higher number of member-clients. Therefore, I’d recommend the stores in Yangon and Mandalay delivering new offerings for their member-clients in order to increase their number. For instance, as far as they have the preferred categories of goods, they may deliver discounts and price reduction with a member-card on these categories, by that they will increase the potential number of member-clients and afterwards they can increase the prices back, but they will definitely compensate the differences in the income of this period by the higher revenue generated from new member-clients. What’s more, as in my survey I’ve found out the preferred product lines in each of the stores, they may increase the supply of these goods as the demand is higher than for the other ones, which will also increase the profits of the stores.')"
   ]
  },
  {
   "cell_type": "code",
   "execution_count": null,
   "id": "28874da7",
   "metadata": {},
   "outputs": [],
   "source": []
  }
 ],
 "metadata": {
  "kernelspec": {
   "display_name": "Python 3",
   "language": "python",
   "name": "python3"
  },
  "language_info": {
   "codemirror_mode": {
    "name": "ipython",
    "version": 3
   },
   "file_extension": ".py",
   "mimetype": "text/x-python",
   "name": "python",
   "nbconvert_exporter": "python",
   "pygments_lexer": "ipython3",
   "version": "3.8.8"
  }
 },
 "nbformat": 4,
 "nbformat_minor": 5
}
